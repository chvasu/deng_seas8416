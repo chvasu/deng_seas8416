{
  "cells": [
    {
      "cell_type": "markdown",
      "metadata": {
        "id": "view-in-github",
        "colab_type": "text"
      },
      "source": [
        "<a href=\"https://colab.research.google.com/github/chvasu/deng_seas8416/blob/main/Chirravuri_seas8416_assignment1.ipynb\" target=\"_parent\"><img src=\"https://colab.research.google.com/assets/colab-badge.svg\" alt=\"Open In Colab\"/></a>"
      ]
    },
    {
      "cell_type": "markdown",
      "id": "a9f8c46b-ae3d-4efa-a94f-2140b165d525",
      "metadata": {
        "id": "a9f8c46b-ae3d-4efa-a94f-2140b165d525"
      },
      "source": [
        "# 1. My Feedback on Installing and Using VSCode, Anaconda, and Direct Python Virtual Environment Setups\n",
        "\n",
        "## VSCode (Visual Studio Code)\n",
        "\n",
        "### Installation and Setup\n",
        "\n",
        "**My steps to Install:**\n",
        "1. I downloaded VSCode from the website: https://code.visualstudio.com/.\n",
        "2. I ran the installer and followed the instructions.\n",
        "3. I installed Python and Jupyter extensions for VSCode from the Extensions Marketplace.\n",
        "4. I configured VSCode to use the Python interpreter by selecting it in the command palette.\n",
        "\n",
        "**Pros:**\n",
        "- **Easy installer setup:** VSCode installer is relatively lightweight and was set up pretty quickly.\n",
        "- **Has Terminal inside the IDE:** I could run shell commands directly within the editor.\n",
        "- **IntelliSense and Debugging:** I noticed the smart code completions as I type code and an integrated debugger making it suitable for advanced coding.\n",
        "- **Git Integration:** It has built-in Git support for version control. So, I connected it to my GitHub account.\n",
        "\n",
        "**Cons:**\n",
        "- **Extension Dependency:** I noticed the need for installing extensions for full functionality, which was taking extra space and memory of my system.\n",
        "\n",
        "### Usage Comments\n",
        "- I had to install necessary extensions like Python, and Jupyter for a good Python development experience.\n",
        "- Initially, I used the integrated terminal for managing virtual environments and downloading packages using 'pip install' but later used the notebook and typed '!pip install package' to run commands directly from notebook without using the terminal.\n",
        "\n",
        "---\n",
        "\n",
        "## Anaconda\n",
        "\n",
        "### Installation and Setup\n",
        "\n",
        "**Steps to Install:**\n",
        "1. I downloaded Anaconda from the website: https://www.anaconda.com/products/distribution.\n",
        "2. I ran the installer and followed the instructions.\n",
        "3. I used the Anaconda prompt to create a new environment (name: deng), activated the new environment, installed the packages from the requirements.txt that I downloaded from https://github.com/kenclements/SEAS8416/blob/main/requirements.txt\n",
        "4. I ran the command: \"jupypter notebook\" and opened the web-browser based notebook (on Edge browser) to create this markdown and code notebook file.\n",
        "\n",
        "**Pros:**\n",
        "- **All-in-One Package:** I like that Anaconda came with a wide range of packages and tools pre-installed.\n",
        "- **Conda Environment Management:** I like the simplified process of creating and managing isolated conda environments.\n",
        "- **Jupyter Notebook Integration:** It was easy to launch and use Jupyter Notebooks.\n",
        "- **Cross-Platform:** This tool is available for Windows, macOS, and Linux.\n",
        "\n",
        "**Cons:**\n",
        "- **Large Download Size:** The installer is quite large, took significant disk space on my computer.\n",
        "- **Overhead:** This tool seems to use a lot of computer resources, so appears to have performance impact on my computer for heavy executions.\n",
        "- **Package Management Learning Curve:** I am familiar with pip, but had to learn conda on terminal to work with this tool.\n",
        "\n",
        "### Usage Comments\n",
        "- I used Conda to create separate environment for this course.\n",
        "- I didn't use the Anaconda Navigator yet, although I read about the GUI-capability of it.\n",
        "\n",
        "---\n",
        "\n",
        "## Direct Python Virtual Environment Setup\n",
        "\n",
        "### Installation and Setup\n",
        "\n",
        "**Steps to Install:**\n",
        "1. I downloaded Python from the website: https://www.python.org/downloads/.\n",
        "2. Used `pip` to install `virtualenv` (`pip install virtualenv`).\n",
        "3. Created a virtual environment using `virtualenv deng`.\n",
        "4. Activated the virtual environment and installed jupyter and pandas packages, just to explore this approach.\n",
        "\n",
        "**Pros:**\n",
        "- **Lightweight:** I felt this setup is simple compared to Anaconda.\n",
        "- **Good for beginners:** It gave me clarity on what's happening inside Python, as we use other tools like Anaconda or VSCode.\n",
        "\n",
        "**Cons:**\n",
        "- **No GUI:** This lacks a graphical user interface for managing packages and environments, making it complex for beginners to use it directly.\n",
        "- **Dependency Conflicts:** I had multiple python versions so I had to delete old one until I realized the virutalenv package.\n",
        "\n",
        "### Usage Comments\n",
        "- I activated virtual environment (deng) before installing packages.\n",
        "- I didn't run `requirements.txt` from the GitHub site as I did that on Anaconda environment.\n",
        "\n",
        "---\n",
        "\n",
        "### Summary\n",
        "In my opinion, each setup has its own unique advantages and disadvantages. I believe VSCode is good when we want to work with source control systems like Git. I prefer to use Anaconda as it is an all-in-one solution with easy environment management. The direct Python virtual environment setup is preferred for initial practice on understanding the language."
      ]
    },
    {
      "cell_type": "markdown",
      "id": "c94534ea-e599-441b-9c2b-484e212bbf0d",
      "metadata": {
        "id": "c94534ea-e599-441b-9c2b-484e212bbf0d"
      },
      "source": [
        "# 2. NumPy Library Overview\n",
        "\n",
        "**NumPy** (Numerical Python) is a fundamental Python library for numerical computing, providing support for large, multi-dimensional arrays and matrices, along with an extensive collection of mathematical functions to operate on these arrays. This makes it essential for scientific computing, data analysis, and many machine learning tasks due to its efficient handling of numerical data.\n",
        "\n",
        "The library's documentation provides insights into its functions, classes, and methods, allowing users to understand and utilize its tools effectively for high-performance operations on arrays and matrices."
      ]
    },
    {
      "cell_type": "markdown",
      "id": "6a170bf9-c062-4197-972d-5bba79a7ee7c",
      "metadata": {
        "id": "6a170bf9-c062-4197-972d-5bba79a7ee7c"
      },
      "source": [
        "# 3. AWS Cloud Python Libraries\n",
        "\n",
        "Below is a list of commonly used Python libraries for working with AWS services (based on my Google search and use of ChatGPT):\n",
        "\n",
        "1. **Boto3**\n",
        "   - The AWS SDK for Python, used to interact with AWS services like S3, EC2, DynamoDB, Lambda, and more.\n",
        "\n",
        "2. **AWS Lambda Powertools for Python**\n",
        "   - Utilities to improve Lambda function development by simplifying logging, metrics, and tracing.\n",
        "\n",
        "3. **AWS CLI (via subprocess)**\n",
        "   - While not a Python library, AWS CLI can be invoked from Python scripts using the `subprocess` module for automation tasks.\n",
        "\n",
        "4. **AWS CDK (Cloud Development Kit) for Python**\n",
        "   - A framework to define cloud resources using Python code for Infrastructure as Code (IaC).\n",
        "\n",
        "5. **Botocore**\n",
        "   - The low-level core library that powers Boto3, offering API calls and resource management.\n",
        "\n",
        "6. **Pandas (with AWS Data Services)**\n",
        "   - For processing large datasets from AWS services like S3 and DynamoDB.\n",
        "\n",
        "7. **AWS SDK for Python (S3, DynamoDB, etc.)**\n",
        "   - Libraries for specific AWS services like `s3fs` for Amazon S3 integration.\n",
        "\n",
        "8. **SageMaker SDK**\n",
        "   - For building, training, and deploying machine learning models with AWS SageMaker.\n",
        "\n",
        "9. **PyAthena**\n",
        "   - A Python client for running SQL queries against Amazon Athena.\n",
        "\n",
        "10. **Django (with AWS Services)**\n",
        "    - For deploying web applications with AWS services like Amazon RDS, S3, and CloudFront.\n",
        "\n",
        "---\n",
        "\n",
        "## Overview of **Boto3**\n",
        "\n",
        "**Boto3** is the official AWS SDK for Python, which allows Python developers to create, configure, and manage AWS services through Python scripts. It simplifies interactions with AWS services, making it an essential tool for automating cloud tasks.\n",
        "\n",
        "### Key Features of Boto3:\n",
        "- **Supports AWS Services**: Boto3 integrates with over 40 AWS services, such as EC2, S3, DynamoDB, Lambda, SQS, SNS, and more.\n",
        "- **Easy-to-Use Interface**: Boto3 provides an easy-to-understand API for Python developers, allowing seamless interaction with AWS services.\n",
        "- **Automatic Credential Management**: Boto3 integrates with AWS IAM roles and uses AWS credentials (from environment variables or configuration files) to authenticate API calls automatically.\n",
        "- **Resource and Client Interfaces**: Boto3 offers two main ways to interact with AWS services: the \"resource\" interface for higher-level abstractions and the \"client\" interface for low-level, service-specific functionality.\n",
        "\n",
        "### Example Code Using Boto3:\n",
        "\n",
        "Here’s a simple example of how we can use Boto3 to upload a file to an S3 bucket:\n",
        "\n",
        "```python\n",
        "import boto3\n",
        "\n",
        "# Create an S3 client\n",
        "s3 = boto3.client('s3')\n",
        "\n",
        "# Upload a file to the specified bucket\n",
        "s3.upload_file('file.txt', 'mys3bucket', 'file.txt')"
      ]
    },
    {
      "cell_type": "markdown",
      "id": "3ede0861-1fe0-41ea-8884-a9e1b0a05c94",
      "metadata": {
        "id": "3ede0861-1fe0-41ea-8884-a9e1b0a05c94"
      },
      "source": [
        "# 4. Python 3.13: Removals and Deprecations\n",
        "\n",
        "## REMOVED\n",
        "\n",
        "### PEP 594: Remove “Dead Batteries” from the Standard Library\n",
        "PEP 594 proposed removing 19 modules from the Python standard library, commonly referred to as \"dead batteries\" due to their outdated, obsolete, or insecure status. These modules were deprecated in Python 3.11 and have now been completely removed in Python 3.13:\n",
        "- `aifc`\n",
        "- `audioop`\n",
        "- `chunk`\n",
        "- `cgi` and `cgitb`\n",
        "\n",
        "### pathlib\n",
        "The ability to use `Path` objects as context managers has been removed. This functionality was deprecated and had no effect since Python 3.9.\n",
        "\n",
        "## DEPRECATED\n",
        "\n",
        "### User-Defined Functions\n",
        "The assignment to a function's `__code__` attribute is now deprecated when the new code object's type does not match the function’s type. The types involved are:\n",
        "- Plain function\n",
        "- Generator\n",
        "- Async generator\n",
        "- Coroutine\n",
        "\n",
        "### ctypes\n",
        "The undocumented `SetPointerType()` function in the `ctypes` module has been deprecated and is scheduled for removal in Python 3.15.\n",
        "\n",
        "Detailed list of changes in Python 3.13 are avialable at https://docs.python.org/3/whatsnew/3.13.html."
      ]
    },
    {
      "cell_type": "code",
      "execution_count": null,
      "id": "7fdd07f0-b357-40c6-90d3-c6412cda2718",
      "metadata": {
        "id": "7fdd07f0-b357-40c6-90d3-c6412cda2718",
        "outputId": "28b714bd-5041-4195-ba90-108a66625e98"
      },
      "outputs": [
        {
          "name": "stdout",
          "output_type": "stream",
          "text": [
            "5.7.2\n",
            "3.12.4 | packaged by Anaconda, Inc. | (main, Jun 18 2024, 15:03:56) [MSC v.1929 64 bit (AMD64)]\n"
          ]
        }
      ],
      "source": [
        "# TASK-5\n",
        "'''\n",
        "Setup your development environment with Python and Jupyter notebooks. Show python and jupyter versions with the following commands (10 pts):\n",
        "import jupyter_core\n",
        "import sys\n",
        "print(jupyter_core.__version__)\n",
        "print(sys.version)\n",
        "'''\n",
        "# Import the jupyter_core module, which is a part of the Jupyter ecosystem.\n",
        "# jupyter_core package provides essential functionalities related to Jupyter's configuration and runtime.\n",
        "# Reference: https://github.com/jupyter/jupyter_core\n",
        "import jupyter_core\n",
        "\n",
        "# Import the sys module, which provides access to some variables used or maintained by the Python interpreter.\n",
        "# sys.version will give information about the Python version currently in use.\n",
        "# Reference: https://docs.python.org/3/library/sys.html\n",
        "import sys\n",
        "\n",
        "# Print the version of the jupyter_core module installed in the environment.\n",
        "# This will help us know which version of Jupyter Core is running and ensure compatibility with our tools.\n",
        "print(jupyter_core.__version__)\n",
        "\n",
        "# Print the version of the Python interpreter currently being used.\n",
        "# sys.version provides detailed information about the Python version and its build number.\n",
        "# This is useful for verifying the Python version (e.g., Python 3.x) we're working with in our environment.\n",
        "print(sys.version)"
      ]
    },
    {
      "cell_type": "code",
      "execution_count": null,
      "id": "6ab7c7ce-a97c-4a68-b37c-d16b57627b7b",
      "metadata": {
        "id": "6ab7c7ce-a97c-4a68-b37c-d16b57627b7b",
        "outputId": "990609ef-65b8-42aa-98eb-f97eedeef1b5"
      },
      "outputs": [
        {
          "name": "stdout",
          "output_type": "stream",
          "text": [
            "Original String (string1): Viswanath S Chirravuri\n",
            "Uppercase String (string2): VISWANATH S CHIRRAVURI\n"
          ]
        }
      ],
      "source": [
        "# TASK-6\n",
        "'''\n",
        "Create a string of your choosing and assign it to a variable called string1.\n",
        "Create a second variable called string2 that is assigned from string1 but also converts all letters to caps (15 pts).\n",
        "'''\n",
        "# Create a string and assign it to string1. No need to typecase to String as Python assumes it automatically based on data.\n",
        "# As a good practice, I used the str() to ensure unwanted data formats are handled to avoid exceptions at run time.\n",
        "string1 = str(\"Viswanath S Chirravuri\")\n",
        "\n",
        "# Create string2 by converting all letters of string1 to uppercase by using the in-built upper() function.\n",
        "# Reference: https://www.w3schools.com/python/ref_string_upper.asp\n",
        "string2 = string1.upper()\n",
        "\n",
        "# Let's print both strings to verify the result\n",
        "print(\"Original String (string1):\", string1)\n",
        "print(\"Uppercase String (string2):\", string2)"
      ]
    },
    {
      "cell_type": "code",
      "execution_count": null,
      "id": "61c4f4de-d007-421d-9d1d-d433de52f9db",
      "metadata": {
        "id": "61c4f4de-d007-421d-9d1d-d433de52f9db",
        "outputId": "b654587f-77ee-48d2-a6ba-4b4efc452175"
      },
      "outputs": [
        {
          "name": "stdin",
          "output_type": "stream",
          "text": [
            "Please enter a floating-point number:  viswanath\n"
          ]
        },
        {
          "name": "stdout",
          "output_type": "stream",
          "text": [
            "Oops! That was not a valid floating-point number. Please try again.\n"
          ]
        },
        {
          "name": "stdin",
          "output_type": "stream",
          "text": [
            "Please enter a floating-point number:  1/0\n"
          ]
        },
        {
          "name": "stdout",
          "output_type": "stream",
          "text": [
            "Oops! That was not a valid floating-point number. Please try again.\n"
          ]
        },
        {
          "name": "stdin",
          "output_type": "stream",
          "text": [
            "Please enter a floating-point number:  2\n"
          ]
        },
        {
          "name": "stdout",
          "output_type": "stream",
          "text": [
            "This is my floating-point variable: 2.0\n"
          ]
        }
      ],
      "source": [
        "# TASK-7\n",
        "'''\n",
        "Using a while loop (reference the homework sample and class notebook files), accept user input for a float called my_float (15 pts).\n",
        "Convert the value to a float.\n",
        "Use try and except sections to make sure the user entered a float.\n",
        "After accepting the input, print a line that says: \"This is my floating-point variable: {my_float}”.\n",
        "Test good and bad input.\n",
        "'''\n",
        "# Let's start a while loop to continuously ask for input until valid input is provided\n",
        "while True:\n",
        "    try:\n",
        "        # Accept user input as a string and attempt to convert it to a float\n",
        "        user_input = input(\"Please enter a floating-point number: \")\n",
        "\n",
        "        # Convert the input value to a float and assign it to my_float\n",
        "        my_float = float(user_input)\n",
        "\n",
        "        # If the conversion is successful, print the floating-point variable to the screen\n",
        "        print(f\"This is my floating-point variable: {my_float}\")\n",
        "\n",
        "        # Break the loop as input was successfully processed\n",
        "        break\n",
        "\n",
        "    except ValueError:\n",
        "        # If the user enters invalid input (not a float), this block will be executed\n",
        "        print(\"Oops! That was not a valid floating-point number. Please try again.\")\n"
      ]
    },
    {
      "cell_type": "code",
      "execution_count": null,
      "id": "f38b5c25-b887-4fd6-a9ce-016c37f6fa1f",
      "metadata": {
        "id": "f38b5c25-b887-4fd6-a9ce-016c37f6fa1f",
        "outputId": "fb9c4cf4-e405-4a43-a3d3-27d2d024e03d"
      },
      "outputs": [
        {
          "name": "stdout",
          "output_type": "stream",
          "text": [
            "Sorted List: [-54, 0, 2, 3, 3, 3, 4, 4, 4, 35, 76, 357, 2345]\n",
            "Reversed Sorted List: [2345, 357, 76, 35, 4, 4, 4, 3, 3, 3, 2, 0, -54]\n"
          ]
        }
      ],
      "source": [
        "# TASK-8\n",
        "'''\n",
        "Create a list of these integers = 4,4,35,357,76,3,4,3,3,2345,0,-54,2.  Sort the integers and print the list. (15 pts)\n",
        "Add a comment in your code that explains if a list is a mutable or immutable type.\n",
        "Next, create a copy of the list reverse sort the integers (in a new list).  Show the results.\n",
        "'''\n",
        "# Create a list of integers\n",
        "integers = [4, 4, 35, 357, 76, 3, 4, 3, 3, 2345, 0, -54, 2]\n",
        "\n",
        "# Sort the integers in ascending order\n",
        "# Reference: https://realpython.com/python-sort/\n",
        "integers.sort()\n",
        "\n",
        "# Print the sorted list\n",
        "print(\"Sorted List:\", integers)\n",
        "\n",
        "# Comment: Lists in Python are mutable, meaning we can modify them after their creation.\n",
        "# We can add, remove, or change elements in a list.\n",
        "# Reference: https://realpython.com/python-mutable-vs-immutable-types/\n",
        "\n",
        "# Create a copy of the original list and reverse sort it\n",
        "# Reference: https://realpython.com/python-mutable-vs-immutable-types/\n",
        "reversed_sorted_integers = sorted(integers, reverse=True)\n",
        "\n",
        "# Print the reversed sorted list\n",
        "print(\"Reversed Sorted List:\", reversed_sorted_integers)"
      ]
    }
  ],
  "metadata": {
    "kernelspec": {
      "display_name": "Python 3 (ipykernel)",
      "language": "python",
      "name": "python3"
    },
    "language_info": {
      "codemirror_mode": {
        "name": "ipython",
        "version": 3
      },
      "file_extension": ".py",
      "mimetype": "text/x-python",
      "name": "python",
      "nbconvert_exporter": "python",
      "pygments_lexer": "ipython3",
      "version": "3.12.4"
    },
    "colab": {
      "provenance": [],
      "include_colab_link": true
    }
  },
  "nbformat": 4,
  "nbformat_minor": 5
}